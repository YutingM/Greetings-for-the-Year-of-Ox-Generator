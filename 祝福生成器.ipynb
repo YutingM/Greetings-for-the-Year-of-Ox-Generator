{
 "cells": [
  {
   "cell_type": "code",
   "execution_count": 117,
   "metadata": {},
   "outputs": [],
   "source": [
    "import pandas as pd\n",
    "import random\n",
    "import numpy as np\n",
    "import os\n",
    "import re\n"
   ]
  },
  {
   "cell_type": "code",
   "execution_count": 142,
   "metadata": {},
   "outputs": [
    {
     "data": {
      "text/html": [
       "<div>\n",
       "<style scoped>\n",
       "    .dataframe tbody tr th:only-of-type {\n",
       "        vertical-align: middle;\n",
       "    }\n",
       "\n",
       "    .dataframe tbody tr th {\n",
       "        vertical-align: top;\n",
       "    }\n",
       "\n",
       "    .dataframe thead th {\n",
       "        text-align: right;\n",
       "    }\n",
       "</style>\n",
       "<table border=\"1\" class=\"dataframe\">\n",
       "  <thead>\n",
       "    <tr style=\"text-align: right;\">\n",
       "      <th></th>\n",
       "      <th>general</th>\n",
       "      <th>ox</th>\n",
       "      <th>poem</th>\n",
       "    </tr>\n",
       "  </thead>\n",
       "  <tbody>\n",
       "    <tr>\n",
       "      <th>0</th>\n",
       "      <td>恭喜发财</td>\n",
       "      <td>牛年吉祥</td>\n",
       "      <td>天泰地泰三阳泰，人和事和万事和！</td>\n",
       "    </tr>\n",
       "    <tr>\n",
       "      <th>1</th>\n",
       "      <td>恭贺新禧</td>\n",
       "      <td>牛年如意</td>\n",
       "      <td>金蛇狂舞辞旧岁，骏马奔腾迎新春！</td>\n",
       "    </tr>\n",
       "    <tr>\n",
       "      <th>2</th>\n",
       "      <td>万事如意</td>\n",
       "      <td>牛年大吉</td>\n",
       "      <td>和气吉祥皆快乐，四季平安过新年！</td>\n",
       "    </tr>\n",
       "    <tr>\n",
       "      <th>3</th>\n",
       "      <td>年年有余</td>\n",
       "      <td>牛势畅旺</td>\n",
       "      <td>鼠去牛来辞旧岁，龙飞凤舞庆新春！</td>\n",
       "    </tr>\n",
       "    <tr>\n",
       "      <th>4</th>\n",
       "      <td>吉祥如意</td>\n",
       "      <td>牛年顺利</td>\n",
       "      <td>翠柳迎春千里绿，黄牛耕地万山金！</td>\n",
       "    </tr>\n",
       "  </tbody>\n",
       "</table>\n",
       "</div>"
      ],
      "text/plain": [
       "  general    ox              poem\n",
       "0    恭喜发财  牛年吉祥  天泰地泰三阳泰，人和事和万事和！\n",
       "1    恭贺新禧  牛年如意  金蛇狂舞辞旧岁，骏马奔腾迎新春！\n",
       "2    万事如意  牛年大吉  和气吉祥皆快乐，四季平安过新年！\n",
       "3    年年有余  牛势畅旺  鼠去牛来辞旧岁，龙飞凤舞庆新春！\n",
       "4    吉祥如意  牛年顺利  翠柳迎春千里绿，黄牛耕地万山金！"
      ]
     },
     "execution_count": 142,
     "metadata": {},
     "output_type": "execute_result"
    }
   ],
   "source": [
    "os.chdir('/Users/Claire/Desktop')\n",
    "d = pd.read_excel(\"wish.xlsx\",)\n",
    "d.head()"
   ]
  },
  {
   "cell_type": "code",
   "execution_count": 143,
   "metadata": {},
   "outputs": [
    {
     "name": "stdout",
     "output_type": "stream",
     "text": [
      "['恭喜发财', '恭贺新禧', '万事如意', '年年有余', '吉祥如意', '大吉大利', '心想事成', '身体健康', '金玉满堂', '笑口常开', '好事连连', '日新月异', '美满幸福', '福星高照', '千事吉祥', '合家欢乐', '吉星高照', '五福临门', '六六顺意', '喜气洋洋']\n"
     ]
    }
   ],
   "source": [
    "general = d[\"general\"].tolist()\n",
    "general = [x for x in general if str(x) != 'nan']\n",
    "print (general)"
   ]
  },
  {
   "cell_type": "code",
   "execution_count": 144,
   "metadata": {},
   "outputs": [
    {
     "name": "stdout",
     "output_type": "stream",
     "text": [
      "['牛年吉祥', '牛年如意', '牛年大吉', '牛势畅旺', '牛年顺利', '金牛报喜', '金牛贺岁', '金牛迎春', '金牛纳福', '喜从牛来', '金牛献吉', '金牛献瑞', '金牛颂春', '金牛贺春', '牛运亨通', '牛运当头', '玉牛迎春', '牛转乾坤', '牛转新机', '牛年旺返', '牛报平安', '牛兆丰年', '鸿运当牛', '喜从牛来', '牛气冲天']\n"
     ]
    }
   ],
   "source": [
    "ox = d['ox'].tolist()\n",
    "ox = [x for x in ox if str(x) != 'nan']\n",
    "print(ox)"
   ]
  },
  {
   "cell_type": "code",
   "execution_count": 148,
   "metadata": {},
   "outputs": [
    {
     "name": "stdout",
     "output_type": "stream",
     "text": [
      "['天泰地泰三阳泰，人和事和万事和！', '金蛇狂舞辞旧岁，骏马奔腾迎新春！', '和气吉祥皆快乐，四季平安过新年！', '鼠去牛来辞旧岁，龙飞凤舞庆新春！', '翠柳迎春千里绿，黄牛耕地万山金！', '家兴国兴事事兴，家圆国圆事事圆！', '牛主乾坤春浩荡，人逢喜庆气昂扬！', '鼠报平安归玉宇，牛随吉瑞下天庭！', '鼠去牛来欣大治，龙腾虎跃奋新程！', '数声柳笛飘牛背，无限春光亮马蹄！', '新春愉快沾牛气，闻喜欢欣祝好年！']\n"
     ]
    }
   ],
   "source": [
    "poem = d['poem'].tolist()\n",
    "poem = [x for x in poem if str(x) != 'nan']\n",
    "print(poem)"
   ]
  },
  {
   "cell_type": "code",
   "execution_count": 149,
   "metadata": {},
   "outputs": [],
   "source": [
    "def func(name):\n",
    "    w1 = random.sample(general,k=2)\n",
    "    w2 = random.sample(ox,k=4)\n",
    "    w3 = random.sample(poem,k=2)\n",
    "    wish1 = '，'.join(w1)\n",
    "    wish2 = '，'.join(w2)\n",
    "    wish3 = ''.join(w3)\n",
    "    wish = wish1+'！'+wish2+'！'+wish3\n",
    "    sen = '祝'+name+wish\n",
    "    print(sen)"
   ]
  },
  {
   "cell_type": "code",
   "execution_count": 150,
   "metadata": {},
   "outputs": [
    {
     "name": "stdout",
     "output_type": "stream",
     "text": [
      "祝老铁们万事如意，合家欢乐！牛年旺返，金牛迎春，牛年大吉，喜从牛来！金蛇狂舞辞旧岁，骏马奔腾迎新春！数声柳笛飘牛背，无限春光亮马蹄！\n"
     ]
    }
   ],
   "source": [
    "func('老铁们')"
   ]
  },
  {
   "cell_type": "code",
   "execution_count": 151,
   "metadata": {},
   "outputs": [
    {
     "name": "stdout",
     "output_type": "stream",
     "text": [
      "祝铁子们金玉满堂，身体健康！牛年大吉，牛运当头，金牛贺岁，牛报平安！翠柳迎春千里绿，黄牛耕地万山金！牛主乾坤春浩荡，人逢喜庆气昂扬！\n"
     ]
    }
   ],
   "source": [
    "func('铁子们')"
   ]
  },
  {
   "cell_type": "code",
   "execution_count": 152,
   "metadata": {},
   "outputs": [
    {
     "name": "stdout",
     "output_type": "stream",
     "text": [
      "祝大家好事连连，福星高照！牛兆丰年，牛年旺返，金牛纳福，牛年顺利！翠柳迎春千里绿，黄牛耕地万山金！鼠去牛来辞旧岁，龙飞凤舞庆新春！\n"
     ]
    }
   ],
   "source": [
    "func('大家')"
   ]
  },
  {
   "cell_type": "code",
   "execution_count": 153,
   "metadata": {},
   "outputs": [
    {
     "name": "stdout",
     "output_type": "stream",
     "text": [
      "祝您身体健康，日新月异！牛兆丰年，牛年如意，牛报平安，金牛颂春！天泰地泰三阳泰，人和事和万事和！翠柳迎春千里绿，黄牛耕地万山金！\n"
     ]
    }
   ],
   "source": [
    "func('您')"
   ]
  },
  {
   "cell_type": "code",
   "execution_count": null,
   "metadata": {},
   "outputs": [],
   "source": []
  }
 ],
 "metadata": {
  "kernelspec": {
   "display_name": "Python 3",
   "language": "python",
   "name": "python3"
  },
  "language_info": {
   "codemirror_mode": {
    "name": "ipython",
    "version": 3
   },
   "file_extension": ".py",
   "mimetype": "text/x-python",
   "name": "python",
   "nbconvert_exporter": "python",
   "pygments_lexer": "ipython3",
   "version": "3.8.3"
  }
 },
 "nbformat": 4,
 "nbformat_minor": 4
}
